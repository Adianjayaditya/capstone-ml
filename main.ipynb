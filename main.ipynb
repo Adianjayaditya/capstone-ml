{
 "cells": [
  {
   "cell_type": "code",
   "execution_count": 32,
   "metadata": {},
   "outputs": [],
   "source": [
    "import tensorflow as tf\n",
    "import keras\n",
    "import pandas as pd\n",
    "import cv2\n",
    "import os"
   ]
  },
  {
   "cell_type": "code",
   "execution_count": 57,
   "metadata": {},
   "outputs": [],
   "source": [
    "training_data_df = pd.read_csv(\"./dataset/train/measurements.csv\")\n",
    "mapping_train_df = pd.read_csv(\"./dataset/train/subject_to_photo_map.csv\")\n",
    "testing_A_data_df = pd.read_csv(\"./dataset/testA/measurements.csv\")\n",
    "testing_B_data_df = pd.read_csv(\"./dataset/testB/measurements.csv\")"
   ]
  },
  {
   "cell_type": "code",
   "execution_count": 55,
   "metadata": {},
   "outputs": [
    {
     "data": {
      "text/html": [
       "<div>\n",
       "<style scoped>\n",
       "    .dataframe tbody tr th:only-of-type {\n",
       "        vertical-align: middle;\n",
       "    }\n",
       "\n",
       "    .dataframe tbody tr th {\n",
       "        vertical-align: top;\n",
       "    }\n",
       "\n",
       "    .dataframe thead th {\n",
       "        text-align: right;\n",
       "    }\n",
       "</style>\n",
       "<table border=\"1\" class=\"dataframe\">\n",
       "  <thead>\n",
       "    <tr style=\"text-align: right;\">\n",
       "      <th></th>\n",
       "      <th>subject_id</th>\n",
       "      <th>photo_id</th>\n",
       "    </tr>\n",
       "  </thead>\n",
       "  <tbody>\n",
       "    <tr>\n",
       "      <th>0</th>\n",
       "      <td>-494U-YoXOD8e8gkCuyaRLn4MLo5P8Dm2B1s59WBGdg</td>\n",
       "      <td>e6f404ebda41ebe93573d3e219c88297</td>\n",
       "    </tr>\n",
       "    <tr>\n",
       "      <th>1</th>\n",
       "      <td>-5OHO2b5mRDY1rvAf07sYYtekEEX7ViEGmvRr7l4tfc</td>\n",
       "      <td>69748a13010a169df0f7cb986ac1129e</td>\n",
       "    </tr>\n",
       "    <tr>\n",
       "      <th>2</th>\n",
       "      <td>-5iHTazqnmWBsnUY6ymoCw1kORMymRDaUla1eNOjgvI</td>\n",
       "      <td>0d4a9cce6294a2bdc6dae93d0d9c42a8</td>\n",
       "    </tr>\n",
       "    <tr>\n",
       "      <th>3</th>\n",
       "      <td>-60o95b9oEE83BDV3GpsAVPA4TFvxuPPqtXEY5PApy8</td>\n",
       "      <td>ecff10b191d87ec602eb58621d5a8e23</td>\n",
       "    </tr>\n",
       "    <tr>\n",
       "      <th>4</th>\n",
       "      <td>-67TrwlJ3GSsqPeHaa2Nb0iQ-BKZfIx4ERysQPZ0-SY</td>\n",
       "      <td>ecb8c4b1031624047de1493c7e8b3905</td>\n",
       "    </tr>\n",
       "    <tr>\n",
       "      <th>...</th>\n",
       "      <td>...</td>\n",
       "      <td>...</td>\n",
       "    </tr>\n",
       "    <tr>\n",
       "      <th>2013</th>\n",
       "      <td>zqMxSbvyEBwZg0jFcfMR1B9fAq86pFKwQuOQ_Kjz_Lo</td>\n",
       "      <td>293cff7b27efa047a25e455593ed90d9</td>\n",
       "    </tr>\n",
       "    <tr>\n",
       "      <th>2014</th>\n",
       "      <td>zrydWW1YldsSPK0Dey0YMyjPCF0jOvwBTfofxzTnNQI</td>\n",
       "      <td>7a9bd49e515456d819cde0e3ce5aa4a0</td>\n",
       "    </tr>\n",
       "    <tr>\n",
       "      <th>2015</th>\n",
       "      <td>ztF-PzganuRaZfhRBc44RANbhV4ff1VVXHRe6MgDYrI</td>\n",
       "      <td>de46f1d8587111b668e1e5ed1b39ac5a</td>\n",
       "    </tr>\n",
       "    <tr>\n",
       "      <th>2016</th>\n",
       "      <td>ztYNUlq8M2d58t-fX1vsG5-JWNdZgtlUwYSBhDuryf8</td>\n",
       "      <td>34c2325b70ff2bb8ee68314b034f6642</td>\n",
       "    </tr>\n",
       "    <tr>\n",
       "      <th>2017</th>\n",
       "      <td>zxWNGv-MTZSuC0Nx6fzyCJKLlpsfXZ-MDRmMX7pIKo0</td>\n",
       "      <td>69890ca694cea75b65260108de4b6fdb</td>\n",
       "    </tr>\n",
       "  </tbody>\n",
       "</table>\n",
       "<p>2018 rows × 2 columns</p>\n",
       "</div>"
      ],
      "text/plain": [
       "                                       subject_id  \\\n",
       "0     -494U-YoXOD8e8gkCuyaRLn4MLo5P8Dm2B1s59WBGdg   \n",
       "1     -5OHO2b5mRDY1rvAf07sYYtekEEX7ViEGmvRr7l4tfc   \n",
       "2     -5iHTazqnmWBsnUY6ymoCw1kORMymRDaUla1eNOjgvI   \n",
       "3     -60o95b9oEE83BDV3GpsAVPA4TFvxuPPqtXEY5PApy8   \n",
       "4     -67TrwlJ3GSsqPeHaa2Nb0iQ-BKZfIx4ERysQPZ0-SY   \n",
       "...                                           ...   \n",
       "2013  zqMxSbvyEBwZg0jFcfMR1B9fAq86pFKwQuOQ_Kjz_Lo   \n",
       "2014  zrydWW1YldsSPK0Dey0YMyjPCF0jOvwBTfofxzTnNQI   \n",
       "2015  ztF-PzganuRaZfhRBc44RANbhV4ff1VVXHRe6MgDYrI   \n",
       "2016  ztYNUlq8M2d58t-fX1vsG5-JWNdZgtlUwYSBhDuryf8   \n",
       "2017  zxWNGv-MTZSuC0Nx6fzyCJKLlpsfXZ-MDRmMX7pIKo0   \n",
       "\n",
       "                              photo_id  \n",
       "0     e6f404ebda41ebe93573d3e219c88297  \n",
       "1     69748a13010a169df0f7cb986ac1129e  \n",
       "2     0d4a9cce6294a2bdc6dae93d0d9c42a8  \n",
       "3     ecff10b191d87ec602eb58621d5a8e23  \n",
       "4     ecb8c4b1031624047de1493c7e8b3905  \n",
       "...                                ...  \n",
       "2013  293cff7b27efa047a25e455593ed90d9  \n",
       "2014  7a9bd49e515456d819cde0e3ce5aa4a0  \n",
       "2015  de46f1d8587111b668e1e5ed1b39ac5a  \n",
       "2016  34c2325b70ff2bb8ee68314b034f6642  \n",
       "2017  69890ca694cea75b65260108de4b6fdb  \n",
       "\n",
       "[2018 rows x 2 columns]"
      ]
     },
     "execution_count": 55,
     "metadata": {},
     "output_type": "execute_result"
    }
   ],
   "source": [
    "mapping_train_clean = mapping_train_df.drop_duplicates(subset='subject_id', keep='first')\n",
    "mapping_train_clean = mapping_train_clean.reset_index(drop=True)\n",
    "mapping_train_clean"
   ]
  },
  {
   "cell_type": "code",
   "execution_count": 37,
   "metadata": {},
   "outputs": [
    {
     "data": {
      "text/plain": [
       "array([[0, 0, 0, ..., 0, 0, 0],\n",
       "       [0, 0, 0, ..., 0, 0, 0],\n",
       "       [0, 0, 0, ..., 0, 0, 0],\n",
       "       ...,\n",
       "       [0, 0, 0, ..., 0, 0, 0],\n",
       "       [0, 0, 0, ..., 0, 0, 0],\n",
       "       [0, 0, 0, ..., 0, 0, 0]], dtype=uint8)"
      ]
     },
     "execution_count": 37,
     "metadata": {},
     "output_type": "execute_result"
    }
   ],
   "source": [
    "image_folder = \"./dataset/train/mask/\"\n",
    "images = []\n",
    "\n",
    "for index, row in "
   ]
  },
  {
   "cell_type": "code",
   "execution_count": 34,
   "metadata": {},
   "outputs": [],
   "source": [
    "for index, row in training_data_df.iterrows():\n",
    "    subject_id = row['subject_id']\n",
    "    if any(mapping_train_df['subject_id'] == subject_id):\n",
    "        photo_id = mapping_train_df.loc[mapping_train_df['subject_id'] == subject_id, 'photo_id']\n",
    "        training_data_df.at[index, 'subject_id'] = photo_id"
   ]
  },
  {
   "cell_type": "code",
   "execution_count": 56,
   "metadata": {},
   "outputs": [
    {
     "data": {
      "text/plain": [
       "6134"
      ]
     },
     "execution_count": 56,
     "metadata": {},
     "output_type": "execute_result"
    }
   ],
   "source": [
    "len(images)"
   ]
  }
 ],
 "metadata": {
  "kernelspec": {
   "display_name": "Python 3",
   "language": "python",
   "name": "python3"
  },
  "language_info": {
   "codemirror_mode": {
    "name": "ipython",
    "version": 3
   },
   "file_extension": ".py",
   "mimetype": "text/x-python",
   "name": "python",
   "nbconvert_exporter": "python",
   "pygments_lexer": "ipython3",
   "version": "3.10.8"
  }
 },
 "nbformat": 4,
 "nbformat_minor": 2
}
